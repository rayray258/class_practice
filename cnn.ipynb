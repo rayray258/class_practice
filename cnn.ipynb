{
 "cells": [
  {
   "cell_type": "code",
   "execution_count": 2,
   "metadata": {},
   "outputs": [],
   "source": [
    "from keras.datasets.cifar10 import load_data\n",
    "(x_train, y_train),(x_test, y_test) = load_data()"
   ]
  },
  {
   "cell_type": "code",
   "execution_count": 3,
   "metadata": {},
   "outputs": [
    {
     "name": "stdout",
     "output_type": "stream",
     "text": [
      "(50000, 32, 32, 3)\n",
      "(10000, 32, 32, 3)\n"
     ]
    }
   ],
   "source": [
    "print(x_train.shape)\n",
    "print(x_test.shape)"
   ]
  },
  {
   "cell_type": "code",
   "execution_count": 4,
   "metadata": {},
   "outputs": [],
   "source": [
    "labels = [\"飛機\", \"汽車\", \"鳥\", \"貓\", \"鹿\",\n",
    "          \"狗\", \"青蛙\", \"馬\", \"船\", \"卡車\"]"
   ]
  },
  {
   "cell_type": "code",
   "execution_count": 21,
   "metadata": {},
   "outputs": [
    {
     "name": "stdout",
     "output_type": "stream",
     "text": [
      "鳥\n"
     ]
    },
    {
     "data": {
      "text/plain": [
       "<matplotlib.image.AxesImage at 0x1f27dbcb1d0>"
      ]
     },
     "execution_count": 21,
     "metadata": {},
     "output_type": "execute_result"
    },
    {
     "data": {
      "image/png": "[encoded data removed]",
      "text/plain": [
       "<Figure size 432x288 with 1 Axes>"
      ]
     },
     "metadata": {
      "needs_background": "light"
     },
     "output_type": "display_data"
    }
   ],
   "source": [
    "import random\n",
    "import matplotlib.pyplot as plt\n",
    "%matplotlib inline\n",
    "c = random.randint(0, 49999)\n",
    "print(labels[y_train[c][0]])\n",
    "plt.imshow(x_train[c])"
   ]
  },
  {
   "cell_type": "code",
   "execution_count": 23,
   "metadata": {},
   "outputs": [
    {
     "data": {
      "text/plain": [
       "array([0., 0., 0., 0., 0., 0., 1., 0., 0., 0.], dtype=float32)"
      ]
     },
     "execution_count": 23,
     "metadata": {},
     "output_type": "execute_result"
    }
   ],
   "source": [
    "x_train_shape = x_train / 255\n",
    "x_test_shape = x_test / 255\n",
    "from keras.utils.np_utils import to_categorical\n",
    "y_train_cat = to_categorical(y_train)\n",
    "y_test_cat = to_categorical(y_test)\n",
    "#DEMO\n",
    "y_train_cat[0]"
   ]
  },
  {
   "cell_type": "code",
   "execution_count": 32,
   "metadata": {},
   "outputs": [
    {
     "name": "stdout",
     "output_type": "stream",
     "text": [
      "_________________________________________________________________\n",
      "Layer (type)                 Output Shape              Param #   \n",
      "=================================================================\n",
      "conv2d_10 (Conv2D)           (None, 32, 32, 32)        896       \n",
      "_________________________________________________________________\n",
      "max_pooling2d_9 (MaxPooling2 (None, 16, 16, 32)        0         \n",
      "_________________________________________________________________\n",
      "conv2d_11 (Conv2D)           (None, 16, 16, 64)        18496     \n",
      "_________________________________________________________________\n",
      "max_pooling2d_10 (MaxPooling (None, 8, 8, 64)          0         \n",
      "_________________________________________________________________\n",
      "conv2d_12 (Conv2D)           (None, 8, 8, 128)         73856     \n",
      "_________________________________________________________________\n",
      "max_pooling2d_11 (MaxPooling (None, 4, 4, 128)         0         \n",
      "_________________________________________________________________\n",
      "flatten_2 (Flatten)          (None, 2048)              0         \n",
      "_________________________________________________________________\n",
      "dense_3 (Dense)              (None, 256)               524544    \n",
      "_________________________________________________________________\n",
      "dense_4 (Dense)              (None, 10)                2570      \n",
      "=================================================================\n",
      "Total params: 620,362\n",
      "Trainable params: 620,362\n",
      "Non-trainable params: 0\n",
      "_________________________________________________________________\n"
     ]
    }
   ],
   "source": [
    "from keras.models import Sequential\n",
    "from keras.layers import Conv2D, MaxPooling2D, Dense\n",
    "from keras.layers import Flatten\n",
    "cnn = Sequential()\n",
    "# 9(格子) * 3(RGB) * 32(filters) + 32(bias)\n",
    "cnn.add(Conv2D(32, (3, 3),\n",
    "               activation=\"relu\",\n",
    "               padding=\"same\",\n",
    "               input_shape=(32, 32, 3)))\n",
    "cnn.add(MaxPooling2D(pool_size=(2, 2)))\n",
    "# 9 * 32(上一層特徵) * 64 + 64\n",
    "cnn.add(Conv2D(64, (3, 3),\n",
    "               activation=\"relu\",\n",
    "               padding=\"same\"))\n",
    "cnn.add(MaxPooling2D(pool_size=(2, 2)))\n",
    "# 9 * 32(上一層特徵) * 64 + 64\n",
    "cnn.add(Conv2D(128, (3, 3),\n",
    "               activation=\"relu\",\n",
    "               padding=\"same\"))\n",
    "cnn.add(MaxPooling2D(pool_size=(2, 2)))\n",
    "# MLP(大腦)\n",
    "cnn.add(Flatten())\n",
    "cnn.add(Dense(256, activation=\"relu\"))\n",
    "cnn.add(Dense(10, activation=\"softmax\"))\n",
    "cnn.summary()"
   ]
  },
  {
   "cell_type": "code",
   "execution_count": 33,
   "metadata": {},
   "outputs": [],
   "source": [
    "cnn.compile(loss=\"categorical_crossentropy\", optimizer=\"adam\", metrics=[\"accuracy\"])"
   ]
  },
  {
   "cell_type": "code",
   "execution_count": 34,
   "metadata": {},
   "outputs": [
    {
     "name": "stdout",
     "output_type": "stream",
     "text": [
      "Train on 45000 samples, validate on 5000 samples\n",
      "Epoch 1/10\n",
      "45000/45000 [==============================] - 72s 2ms/step - loss: 1.6066 - acc: 0.4225 - val_loss: 1.2981 - val_acc: 0.5276\n",
      "Epoch 2/10\n",
      "45000/45000 [==============================] - 70s 2ms/step - loss: 1.1896 - acc: 0.5788 - val_loss: 1.0692 - val_acc: 0.6220\n",
      "Epoch 3/10\n",
      "45000/45000 [==============================] - 65s 1ms/step - loss: 1.0047 - acc: 0.6477 - val_loss: 0.9704 - val_acc: 0.6614\n",
      "Epoch 4/10\n",
      "45000/45000 [==============================] - 67s 1ms/step - loss: 0.8906 - acc: 0.6908 - val_loss: 0.8658 - val_acc: 0.7062\n",
      "Epoch 5/10\n",
      "45000/45000 [==============================] - 68s 2ms/step - loss: 0.7937 - acc: 0.7244 - val_loss: 0.8176 - val_acc: 0.7188\n",
      "Epoch 6/10\n",
      "45000/45000 [==============================] - 63s 1ms/step - loss: 0.7249 - acc: 0.7487 - val_loss: 0.7995 - val_acc: 0.7260\n",
      "Epoch 7/10\n",
      "45000/45000 [==============================] - 64s 1ms/step - loss: 0.6544 - acc: 0.7734 - val_loss: 0.8120 - val_acc: 0.7160\n",
      "Epoch 8/10\n",
      "45000/45000 [==============================] - 65s 1ms/step - loss: 0.5940 - acc: 0.7953 - val_loss: 0.7607 - val_acc: 0.7460\n",
      "Epoch 9/10\n",
      "45000/45000 [==============================] - 66s 1ms/step - loss: 0.5411 - acc: 0.8135 - val_loss: 0.7408 - val_acc: 0.7568\n",
      "Epoch 10/10\n",
      "45000/45000 [==============================] - 64s 1ms/step - loss: 0.4776 - acc: 0.8353 - val_loss: 0.7496 - val_acc: 0.7536\n"
     ]
    },
    {
     "data": {
      "text/plain": [
       "<keras.callbacks.History at 0x1f22195e7b8>"
      ]
     },
     "execution_count": 34,
     "metadata": {},
     "output_type": "execute_result"
    }
   ],
   "source": [
    "cnn.fit(x_train_shape, y_train_cat, batch_size=200, epochs=10, validation_split=0.1)"
   ]
  },
  {
   "cell_type": "code",
   "execution_count": 35,
   "metadata": {},
   "outputs": [
    {
     "name": "stdout",
     "output_type": "stream",
     "text": [
      "10000/10000 [==============================] - 6s 564us/step\n"
     ]
    },
    {
     "data": {
      "text/plain": [
       "[0.7980641582489013, 0.737]"
      ]
     },
     "execution_count": 35,
     "metadata": {},
     "output_type": "execute_result"
    }
   ],
   "source": [
    "cnn.evaluate(x_test_shape, y_test_cat)"
   ]
  },
  {
   "cell_type": "code",
   "execution_count": 36,
   "metadata": {},
   "outputs": [],
   "source": [
    "cnn.save(\"simplecnn.h5\")"
   ]
  },
  {
   "cell_type": "code",
   "execution_count": 37,
   "metadata": {},
   "outputs": [
    {
     "name": "stdout",
     "output_type": "stream",
     "text": [
      "10000/10000 [==============================] - 6s 564us/step\n"
     ]
    },
    {
     "data": {
      "text/plain": [
       "[0.7980641582489013, 0.737]"
      ]
     },
     "execution_count": 37,
     "metadata": {},
     "output_type": "execute_result"
    }
   ],
   "source": [
    "from keras.models import load_model\n",
    "old = load_model(\"simplecnn.h5\")\n",
    "old.evaluate(x_test_shape, y_test_cat)"
   ]
  },
  {
   "cell_type": "code",
   "execution_count": 38,
   "metadata": {},
   "outputs": [
    {
     "data": {
      "text/html": [
       "<div>\n",
       "<style scoped>\n",
       "    .dataframe tbody tr th:only-of-type {\n",
       "        vertical-align: middle;\n",
       "    }\n",
       "\n",
       "    .dataframe tbody tr th {\n",
       "        vertical-align: top;\n",
       "    }\n",
       "\n",
       "    .dataframe thead th {\n",
       "        text-align: right;\n",
       "    }\n",
       "</style>\n",
       "<table border=\"1\" class=\"dataframe\">\n",
       "  <thead>\n",
       "    <tr style=\"text-align: right;\">\n",
       "      <th></th>\n",
       "      <th>0</th>\n",
       "      <th>1</th>\n",
       "      <th>2</th>\n",
       "      <th>3</th>\n",
       "      <th>4</th>\n",
       "      <th>5</th>\n",
       "      <th>6</th>\n",
       "      <th>7</th>\n",
       "      <th>8</th>\n",
       "      <th>9</th>\n",
       "    </tr>\n",
       "  </thead>\n",
       "  <tbody>\n",
       "    <tr>\n",
       "      <th>0</th>\n",
       "      <td>782</td>\n",
       "      <td>15</td>\n",
       "      <td>38</td>\n",
       "      <td>15</td>\n",
       "      <td>9</td>\n",
       "      <td>20</td>\n",
       "      <td>6</td>\n",
       "      <td>15</td>\n",
       "      <td>49</td>\n",
       "      <td>51</td>\n",
       "    </tr>\n",
       "    <tr>\n",
       "      <th>1</th>\n",
       "      <td>19</td>\n",
       "      <td>822</td>\n",
       "      <td>8</td>\n",
       "      <td>5</td>\n",
       "      <td>3</td>\n",
       "      <td>5</td>\n",
       "      <td>6</td>\n",
       "      <td>5</td>\n",
       "      <td>17</td>\n",
       "      <td>110</td>\n",
       "    </tr>\n",
       "    <tr>\n",
       "      <th>2</th>\n",
       "      <td>64</td>\n",
       "      <td>7</td>\n",
       "      <td>652</td>\n",
       "      <td>46</td>\n",
       "      <td>56</td>\n",
       "      <td>82</td>\n",
       "      <td>37</td>\n",
       "      <td>35</td>\n",
       "      <td>9</td>\n",
       "      <td>12</td>\n",
       "    </tr>\n",
       "    <tr>\n",
       "      <th>3</th>\n",
       "      <td>29</td>\n",
       "      <td>9</td>\n",
       "      <td>60</td>\n",
       "      <td>516</td>\n",
       "      <td>66</td>\n",
       "      <td>202</td>\n",
       "      <td>39</td>\n",
       "      <td>41</td>\n",
       "      <td>18</td>\n",
       "      <td>20</td>\n",
       "    </tr>\n",
       "    <tr>\n",
       "      <th>4</th>\n",
       "      <td>21</td>\n",
       "      <td>5</td>\n",
       "      <td>83</td>\n",
       "      <td>60</td>\n",
       "      <td>645</td>\n",
       "      <td>53</td>\n",
       "      <td>25</td>\n",
       "      <td>93</td>\n",
       "      <td>9</td>\n",
       "      <td>6</td>\n",
       "    </tr>\n",
       "    <tr>\n",
       "      <th>5</th>\n",
       "      <td>10</td>\n",
       "      <td>4</td>\n",
       "      <td>42</td>\n",
       "      <td>131</td>\n",
       "      <td>31</td>\n",
       "      <td>705</td>\n",
       "      <td>15</td>\n",
       "      <td>43</td>\n",
       "      <td>6</td>\n",
       "      <td>13</td>\n",
       "    </tr>\n",
       "    <tr>\n",
       "      <th>6</th>\n",
       "      <td>7</td>\n",
       "      <td>7</td>\n",
       "      <td>56</td>\n",
       "      <td>65</td>\n",
       "      <td>37</td>\n",
       "      <td>29</td>\n",
       "      <td>769</td>\n",
       "      <td>11</td>\n",
       "      <td>7</td>\n",
       "      <td>12</td>\n",
       "    </tr>\n",
       "    <tr>\n",
       "      <th>7</th>\n",
       "      <td>12</td>\n",
       "      <td>10</td>\n",
       "      <td>25</td>\n",
       "      <td>28</td>\n",
       "      <td>29</td>\n",
       "      <td>61</td>\n",
       "      <td>4</td>\n",
       "      <td>818</td>\n",
       "      <td>3</td>\n",
       "      <td>10</td>\n",
       "    </tr>\n",
       "    <tr>\n",
       "      <th>8</th>\n",
       "      <td>66</td>\n",
       "      <td>33</td>\n",
       "      <td>13</td>\n",
       "      <td>14</td>\n",
       "      <td>5</td>\n",
       "      <td>9</td>\n",
       "      <td>4</td>\n",
       "      <td>3</td>\n",
       "      <td>815</td>\n",
       "      <td>38</td>\n",
       "    </tr>\n",
       "    <tr>\n",
       "      <th>9</th>\n",
       "      <td>22</td>\n",
       "      <td>59</td>\n",
       "      <td>11</td>\n",
       "      <td>11</td>\n",
       "      <td>3</td>\n",
       "      <td>6</td>\n",
       "      <td>5</td>\n",
       "      <td>16</td>\n",
       "      <td>21</td>\n",
       "      <td>846</td>\n",
       "    </tr>\n",
       "  </tbody>\n",
       "</table>\n",
       "</div>"
      ],
      "text/plain": [
       "     0    1    2    3    4    5    6    7    8    9\n",
       "0  782   15   38   15    9   20    6   15   49   51\n",
       "1   19  822    8    5    3    5    6    5   17  110\n",
       "2   64    7  652   46   56   82   37   35    9   12\n",
       "3   29    9   60  516   66  202   39   41   18   20\n",
       "4   21    5   83   60  645   53   25   93    9    6\n",
       "5   10    4   42  131   31  705   15   43    6   13\n",
       "6    7    7   56   65   37   29  769   11    7   12\n",
       "7   12   10   25   28   29   61    4  818    3   10\n",
       "8   66   33   13   14    5    9    4    3  815   38\n",
       "9   22   59   11   11    3    6    5   16   21  846"
      ]
     },
     "execution_count": 38,
     "metadata": {},
     "output_type": "execute_result"
    }
   ],
   "source": [
    "from sklearn.metrics import confusion_matrix\n",
    "import pandas as pd\n",
    "pd.DataFrame(confusion_matrix(y_test, cnn.predict_classes(x_test_shape)))"
   ]
  },
  {
   "cell_type": "code",
   "execution_count": 39,
   "metadata": {},
   "outputs": [
    {
     "data": {
      "text/plain": [
       "['飛機', '汽車', '鳥', '貓', '鹿', '狗', '青蛙', '馬', '船', '卡車']"
      ]
     },
     "execution_count": 39,
     "metadata": {},
     "output_type": "execute_result"
    }
   ],
   "source": [
    "labels"
   ]
  }
 ],
 "metadata": {
  "kernelspec": {
   "display_name": "Python 3",
   "language": "python",
   "name": "python3"
  },
  "language_info": {
   "codemirror_mode": {
    "name": "ipython",
    "version": 3
   },
   "file_extension": ".py",
   "mimetype": "text/x-python",
   "name": "python",
   "nbconvert_exporter": "python",
   "pygments_lexer": "ipython3",
   "version": "3.6.0"
  }
 },
 "nbformat": 4,
 "nbformat_minor": 2
}
